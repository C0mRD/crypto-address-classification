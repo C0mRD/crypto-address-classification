{
 "cells": [
  {
   "cell_type": "code",
   "execution_count": 1,
   "metadata": {},
   "outputs": [
    {
     "name": "stderr",
     "output_type": "stream",
     "text": [
      "2024-06-07 10:35:07.474396: I tensorflow/core/platform/cpu_feature_guard.cc:210] This TensorFlow binary is optimized to use available CPU instructions in performance-critical operations.\n",
      "To enable the following instructions: AVX2 FMA, in other operations, rebuild TensorFlow with the appropriate compiler flags.\n"
     ]
    }
   ],
   "source": [
    "import pandas as pd\n",
    "from sklearn.preprocessing import LabelEncoder\n",
    "from sklearn.model_selection import train_test_split\n",
    "from tensorflow.keras.preprocessing.text import Tokenizer\n",
    "from tensorflow.keras.preprocessing.sequence import pad_sequences\n",
    "from tensorflow.keras.models import Sequential, load_model\n",
    "from tensorflow.keras.layers import Embedding, LSTM, Dense, Bidirectional, Conv1D, GlobalMaxPooling1D\n",
    "from tensorflow.keras.utils import to_categorical\n",
    "import pickle"
   ]
  },
  {
   "cell_type": "code",
   "execution_count": 2,
   "metadata": {},
   "outputs": [],
   "source": [
    "# Load the dataset\n",
    "data = pd.read_csv('../dataset/processed_data/new_dataset.csv')\n",
    "\n",
    "# Extract addresses and labels\n",
    "addresses = data['address'].values\n",
    "labels = data['type'].values\n",
    "\n",
    "# Encode the labels\n",
    "label_encoder = LabelEncoder()\n",
    "encoded_labels = label_encoder.fit_transform(labels)\n",
    "\n",
    "# Tokenize the addresses\n",
    "tokenizer = Tokenizer(char_level=True)  # Tokenize at the character level\n",
    "tokenizer.fit_on_texts(addresses)\n",
    "sequences = tokenizer.texts_to_sequences(addresses)\n",
    "max_length = max(len(seq) for seq in sequences)\n",
    "padded_sequences = pad_sequences(sequences, maxlen=max_length, padding='post')\n",
    "\n",
    "# Convert labels to categorical format\n",
    "categorical_labels = to_categorical(encoded_labels)\n",
    "\n",
    "# Split the data into training and test sets\n",
    "X_train, X_test, y_train, y_test = train_test_split(padded_sequences, categorical_labels, test_size=0.2, random_state=42)\n",
    "\n",
    "# Get the number of unique classes\n",
    "num_classes = len(label_encoder.classes_)"
   ]
  },
  {
   "cell_type": "code",
   "execution_count": 3,
   "metadata": {},
   "outputs": [
    {
     "name": "stderr",
     "output_type": "stream",
     "text": [
      "/Users/geogotechsolutions/miniconda3/envs/hornetassign/lib/python3.10/site-packages/keras/src/layers/core/embedding.py:90: UserWarning: Argument `input_length` is deprecated. Just remove it.\n",
      "  warnings.warn(\n"
     ]
    }
   ],
   "source": [
    "# Convert labels to categorical format\n",
    "categorical_labels = to_categorical(encoded_labels, num_classes=num_classes)\n",
    "\n",
    "# Define the model\n",
    "model = Sequential()\n",
    "model.add(Embedding(input_dim=len(tokenizer.word_index) + 1, output_dim=128, input_length=max_length))\n",
    "model.add(Bidirectional(LSTM(64, return_sequences=True)))\n",
    "model.add(Conv1D(64, 3, activation='relu'))\n",
    "model.add(GlobalMaxPooling1D())\n",
    "model.add(Dense(64, activation='relu'))\n",
    "model.add(Dense(num_classes, activation='softmax'))  # Adjust num_classes to the number of classes in your task\n",
    "\n",
    "# Compile the model\n",
    "model.compile(optimizer='adam', loss='categorical_crossentropy', metrics=['accuracy'])"
   ]
  },
  {
   "cell_type": "code",
   "execution_count": 4,
   "metadata": {},
   "outputs": [
    {
     "name": "stdout",
     "output_type": "stream",
     "text": [
      "\u001b[1m10000/10000\u001b[0m \u001b[32m━━━━━━━━━━━━━━━━━━━━\u001b[0m\u001b[37m\u001b[0m \u001b[1m1578s\u001b[0m 157ms/step - accuracy: 0.9812 - loss: 0.0441 - val_accuracy: 1.0000 - val_loss: 5.1142e-07\n"
     ]
    }
   ],
   "source": [
    "# Train the model\n",
    "history = model.fit(X_train, y_train, epochs=1, batch_size=32, validation_split=0.2)"
   ]
  },
  {
   "cell_type": "code",
   "execution_count": 5,
   "metadata": {},
   "outputs": [
    {
     "name": "stderr",
     "output_type": "stream",
     "text": [
      "WARNING:absl:You are saving your model as an HDF5 file via `model.save()` or `keras.saving.save_model(model)`. This file format is considered legacy. We recommend using instead the native Keras format, e.g. `model.save('my_model.keras')` or `keras.saving.save_model(model, 'my_model.keras')`. \n"
     ]
    }
   ],
   "source": [
    "# Save the model\n",
    "model.save('../models/crypto_address_classifier_epoch1_newv2.h5')"
   ]
  },
  {
   "cell_type": "code",
   "execution_count": 6,
   "metadata": {},
   "outputs": [],
   "source": [
    "# Save the tokenizer\n",
    "with open('../models/tokenizer.pickle', 'wb') as handle:\n",
    "    pickle.dump(tokenizer, handle, protocol=pickle.HIGHEST_PROTOCOL)\n",
    "\n",
    "# Save the label encoder\n",
    "with open('../models/label_encoder.pickle', 'wb') as handle:\n",
    "    pickle.dump(label_encoder, handle, protocol=pickle.HIGHEST_PROTOCOL)\n",
    "\n",
    "# Save max_length to a text file\n",
    "with open('../models/max_length.txt', 'w') as f:\n",
    "    f.write(str(max_length))\n"
   ]
  },
  {
   "cell_type": "code",
   "execution_count": 7,
   "metadata": {},
   "outputs": [
    {
     "name": "stdout",
     "output_type": "stream",
     "text": [
      "95\n"
     ]
    }
   ],
   "source": [
    "print(max_length)"
   ]
  },
  {
   "cell_type": "code",
   "execution_count": 8,
   "metadata": {},
   "outputs": [
    {
     "name": "stdout",
     "output_type": "stream",
     "text": [
      "\u001b[1m3125/3125\u001b[0m \u001b[32m━━━━━━━━━━━━━━━━━━━━\u001b[0m\u001b[37m\u001b[0m \u001b[1m139s\u001b[0m 45ms/step - accuracy: 1.0000 - loss: 4.8779e-07\n",
      "Test Accuracy: 1.0000\n",
      "Test Loss: 0.0000\n"
     ]
    }
   ],
   "source": [
    "# Evaluate the model on the test set\n",
    "test_loss, test_accuracy = model.evaluate(X_test, y_test)\n",
    "print(f'Test Accuracy: {test_accuracy:.4f}')\n",
    "print(f'Test Loss: {test_loss:.4f}')"
   ]
  },
  {
   "cell_type": "code",
   "execution_count": 9,
   "metadata": {},
   "outputs": [
    {
     "name": "stderr",
     "output_type": "stream",
     "text": [
      "WARNING:absl:Compiled the loaded model, but the compiled metrics have yet to be built. `model.compile_metrics` will be empty until you train or evaluate the model.\n"
     ]
    },
    {
     "name": "stdout",
     "output_type": "stream",
     "text": [
      "\u001b[1m1/1\u001b[0m \u001b[32m━━━━━━━━━━━━━━━━━━━━\u001b[0m\u001b[37m\u001b[0m \u001b[1m1s\u001b[0m 520ms/step\n",
      "Address: 1A1zP1eP5QGefi2DMPTfTL5SLmv7DivfNa, Predicted Class: bitcoin\n",
      "Address: 0x9cc6c2b37428c258a0783d29c3cc05c1cc8348a9, Predicted Class: ethereum\n",
      "Address: XkMSxZA88p3k6JN3XMcgZh53HjVzboSUuh, Predicted Class: dash\n",
      "Address: TTqtSdSUfNMAxQzaCzNf7ULZEGLQXMZx0H, Predicted Class: Tron\n",
      "Address: 85kay29yxusnlc8ebh71bbsl8mpvnlc42fbyza1e90b0zwbf68g67efw4m7gjbitec8yrgc23w7lifqogub1hnsoppp4161, Predicted Class: Monero\n"
     ]
    }
   ],
   "source": [
    "# Load the trained model\n",
    "model = load_model('../models/crypto_address_classifier_epoch1_newv2.h5')\n",
    "\n",
    "# Sample new addresses for inference\n",
    "new_addresses = [\"1A1zP1eP5QGefi2DMPTfTL5SLmv7DivfNa\", \n",
    "                 \"0x9cc6c2b37428c258a0783d29c3cc05c1cc8348a9\", \n",
    "                 \"XkMSxZA88p3k6JN3XMcgZh53HjVzboSUuh\",\n",
    "                 \"TTqtSdSUfNMAxQzaCzNf7ULZEGLQXMZx0H\",\n",
    "                 \"85kay29yxusnlc8ebh71bbsl8mpvnlc42fbyza1e90b0zwbf68g67efw4m7gjbitec8yrgc23w7lifqogub1hnsoppp4161\",\n",
    "                ]\n",
    "\n",
    "# Preprocess the new addresses\n",
    "new_sequences = tokenizer.texts_to_sequences(new_addresses)\n",
    "new_padded_sequences = pad_sequences(new_sequences, maxlen=max_length, padding='post')\n",
    "\n",
    "# Predict the classes for the new addresses\n",
    "predictions = model.predict(new_padded_sequences)\n",
    "predicted_classes = predictions.argmax(axis=-1)\n",
    "\n",
    "# Convert indices to class labels\n",
    "predicted_labels = label_encoder.inverse_transform(predicted_classes)\n",
    "\n",
    "# Print the results\n",
    "for address, label in zip(new_addresses, predicted_labels):\n",
    "    print(f\"Address: {address}, Predicted Class: {label}\")"
   ]
  },
  {
   "cell_type": "code",
   "execution_count": 11,
   "metadata": {},
   "outputs": [
    {
     "name": "stderr",
     "output_type": "stream",
     "text": [
      "WARNING:absl:Compiled the loaded model, but the compiled metrics have yet to be built. `model.compile_metrics` will be empty until you train or evaluate the model.\n"
     ]
    },
    {
     "name": "stdout",
     "output_type": "stream",
     "text": [
      "\u001b[1m1/1\u001b[0m \u001b[32m━━━━━━━━━━━━━━━━━━━━\u001b[0m\u001b[37m\u001b[0m \u001b[1m1s\u001b[0m 794ms/step\n",
      "bitcoin\n",
      "bitcoin\n",
      "ethereum\n",
      "Tron\n",
      "Monero\n",
      "Monero\n",
      "Monero\n",
      "Address: 1A1zP1eP5QGefi2DMPTfTL5SLmv7DivfNa, Predicted Class: bitcoin\n",
      "Address: bc1qw508d6qejxtdg4y5r3zarvary0c5xw7kygt080, Predicted Class: bitcoin\n",
      "Address: 0x9cc6c2b37428c258a0783d29c3cc05c1cc8348a9, Predicted Class: ethereum\n",
      "Address: T9K9nB5uMdX8dW5eYfH2Q5s7gE6rV1eZ2b, Predicted Class: Tron\n",
      "Address: 4e8eymr4yxgbl889el2hfbvpwpvl301r40wy3e98ofp61y4mabn57vikg6okxwwk0ics16ya9ycpzwp6cs3zuz4fhpc9fwz, Predicted Class: Monero\n",
      "Address: 85kay29yxusnlc8ebh71bbsl8mpvnlc42fbyza1e90b0zwbf68g67efw4m7gjbitec8yrgc23w7lifqogub1hnsoppp4161, Predicted Class: Monero\n",
      "Address: 84EgZVjXKF4d1JkEhZSxm4LQQEx64AvqQEwkvWPtHEb5JMrB1Y86y1vCPSCiXsKzbfS9x8vCpx3gVgPaHCpobPYqQzANTnC, Predicted Class: unknown\n"
     ]
    }
   ],
   "source": [
    "import re\n",
    "\n",
    "# Define regex patterns for each cryptocurrency, including the updated Bitcoin, Tron, and Monero patterns\n",
    "regex_patterns = {\n",
    "    'bitcoin': r'^[13][a-km-zA-HJ-NP-Z1-9]{25,34}$|^bc1[ac-hj-np-z02-9]{38,59}$',\n",
    "    'ethereum': r'^0x[a-fA-F0-9]{40}$',\n",
    "    'dash': r'^X[1-9A-HJ-NP-Za-km-z]{33}$',\n",
    "    'tron': r'^T[a-zA-Z0-9]{33}$',\n",
    "    'monero': r'^[48][a-z0-9]{94}$'\n",
    "}\n",
    "\n",
    "# Function to perform inference and compare with regex\n",
    "def predict_and_validate(addresses, model, tokenizer, label_encoder, max_length):\n",
    "    # Preprocess the addresses\n",
    "    sequences = tokenizer.texts_to_sequences(addresses)\n",
    "    padded_sequences = pad_sequences(sequences, maxlen=max_length, padding='post')\n",
    "\n",
    "    # Predict the classes for the addresses\n",
    "    predictions = model.predict(padded_sequences)\n",
    "    predicted_classes = predictions.argmax(axis=-1)\n",
    "    predicted_labels = label_encoder.inverse_transform(predicted_classes)\n",
    "\n",
    "    results = []\n",
    "\n",
    "    for address, predicted_label in zip(addresses, predicted_labels):\n",
    "        # Convert the predicted label to lowercase to match the regex dictionary\n",
    "        predicted_label_lower = predicted_label.lower()\n",
    "\n",
    "        # Check the address with regex patterns\n",
    "        matched_label = None\n",
    "        for label, pattern in regex_patterns.items():\n",
    "            if re.match(pattern, address):\n",
    "                matched_label = label.lower()\n",
    "                break\n",
    "\n",
    "        # Compare model prediction with regex match\n",
    "        if matched_label == predicted_label_lower:\n",
    "            results.append((address, predicted_label))\n",
    "        else:\n",
    "            results.append((address, 'unknown'))\n",
    "        print(predicted_label)\n",
    "\n",
    "    return results\n",
    "\n",
    "# Example usage\n",
    "new_addresses = [\n",
    "    \"1A1zP1eP5QGefi2DMPTfTL5SLmv7DivfNa\",\n",
    "    \"bc1qw508d6qejxtdg4y5r3zarvary0c5xw7kygt080\",\n",
    "    \"0x9cc6c2b37428c258a0783d29c3cc05c1cc8348a9\",\n",
    "    \"T9K9nB5uMdX8dW5eYfH2Q5s7gE6rV1eZ2b\",\n",
    "    \"4e8eymr4yxgbl889el2hfbvpwpvl301r40wy3e98ofp61y4mabn57vikg6okxwwk0ics16ya9ycpzwp6cs3zuz4fhpc9fwz\",\n",
    "    \"85kay29yxusnlc8ebh71bbsl8mpvnlc42fbyza1e90b0zwbf68g67efw4m7gjbitec8yrgc23w7lifqogub1hnsoppp4161\"\n",
    "]\n",
    "\n",
    "# Load the trained model\n",
    "model = load_model('../models/crypto_address_classifier_epoch1_newv2.h5')\n",
    "\n",
    "# Predict and validate\n",
    "results = predict_and_validate(new_addresses, model, tokenizer, label_encoder, max_length)\n",
    "\n",
    "# Print the results\n",
    "for address, label in results:\n",
    "    print(f\"Address: {address}, Predicted Class: {label}\")"
   ]
  }
 ],
 "metadata": {
  "kernelspec": {
   "display_name": "hornetassign",
   "language": "python",
   "name": "python3"
  },
  "language_info": {
   "codemirror_mode": {
    "name": "ipython",
    "version": 3
   },
   "file_extension": ".py",
   "mimetype": "text/x-python",
   "name": "python",
   "nbconvert_exporter": "python",
   "pygments_lexer": "ipython3",
   "version": "3.10.14"
  }
 },
 "nbformat": 4,
 "nbformat_minor": 2
}
