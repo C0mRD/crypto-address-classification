{
 "cells": [
  {
   "cell_type": "code",
   "execution_count": 65,
   "metadata": {},
   "outputs": [
    {
     "name": "stderr",
     "output_type": "stream",
     "text": [
      "Matplotlib is building the font cache; this may take a moment.\n"
     ]
    }
   ],
   "source": [
    "# import necessary libraries\n",
    "import pandas as pd\n",
    "from sklearn.preprocessing import LabelEncoder, StandardScaler\n",
    "from sklearn.model_selection import train_test_split\n",
    "from sklearn.ensemble import RandomForestClassifier\n",
    "from sklearn.linear_model import LogisticRegression\n",
    "from sklearn.neighbors import KNeighborsClassifier\n",
    "from sklearn.svm import SVC\n",
    "from sklearn.tree import DecisionTreeClassifier\n",
    "from sklearn.naive_bayes import GaussianNB\n",
    "from sklearn.metrics import classification_report, accuracy_score\n",
    "from tensorflow.keras.layers import Dense, Dropout\n",
    "from tensorflow.keras import Sequential\n",
    "from tensorflow.keras.optimizers import Adam\n",
    "import joblib\n",
    "import numpy as np\n",
    "import matplotlib.pyplot as plt\n",
    "import seaborn as sns"
   ]
  },
  {
   "cell_type": "code",
   "execution_count": 42,
   "metadata": {},
   "outputs": [],
   "source": [
    "# Load the dataaset with features\n",
    "df = pd.read_csv(\"../dataset/processed_data/dataset_with_feature_new.csv\")"
   ]
  },
  {
   "cell_type": "code",
   "execution_count": 43,
   "metadata": {},
   "outputs": [
    {
     "data": {
      "text/html": [
       "<div>\n",
       "<style scoped>\n",
       "    .dataframe tbody tr th:only-of-type {\n",
       "        vertical-align: middle;\n",
       "    }\n",
       "\n",
       "    .dataframe tbody tr th {\n",
       "        vertical-align: top;\n",
       "    }\n",
       "\n",
       "    .dataframe thead th {\n",
       "        text-align: right;\n",
       "    }\n",
       "</style>\n",
       "<table border=\"1\" class=\"dataframe\">\n",
       "  <thead>\n",
       "    <tr style=\"text-align: right;\">\n",
       "      <th></th>\n",
       "      <th>address</th>\n",
       "      <th>type</th>\n",
       "      <th>length</th>\n",
       "      <th>prefix</th>\n",
       "      <th>checksum</th>\n",
       "      <th>num_alpha</th>\n",
       "      <th>num_digits</th>\n",
       "    </tr>\n",
       "  </thead>\n",
       "  <tbody>\n",
       "    <tr>\n",
       "      <th>0</th>\n",
       "      <td>31tz9NMuii6Efg3SjG1BeFEHUqKCjuwrSk</td>\n",
       "      <td>bitcoin</td>\n",
       "      <td>34</td>\n",
       "      <td>b</td>\n",
       "      <td>base58check</td>\n",
       "      <td>28</td>\n",
       "      <td>6</td>\n",
       "    </tr>\n",
       "    <tr>\n",
       "      <th>1</th>\n",
       "      <td>XnNFmrF8xFZwuuR7iNkefB4W8d8QNktqYA</td>\n",
       "      <td>dash</td>\n",
       "      <td>34</td>\n",
       "      <td>d</td>\n",
       "      <td>x11</td>\n",
       "      <td>29</td>\n",
       "      <td>5</td>\n",
       "    </tr>\n",
       "    <tr>\n",
       "      <th>2</th>\n",
       "      <td>0x9cc6c2b37428c258a0783d29c3cc05c1cc8348a9</td>\n",
       "      <td>ethereum</td>\n",
       "      <td>42</td>\n",
       "      <td>e</td>\n",
       "      <td>keccak-256</td>\n",
       "      <td>15</td>\n",
       "      <td>27</td>\n",
       "    </tr>\n",
       "    <tr>\n",
       "      <th>3</th>\n",
       "      <td>0x139bdf382a423cdec92a8581500993c9cb779889</td>\n",
       "      <td>ethereum</td>\n",
       "      <td>42</td>\n",
       "      <td>e</td>\n",
       "      <td>keccak-256</td>\n",
       "      <td>13</td>\n",
       "      <td>29</td>\n",
       "    </tr>\n",
       "    <tr>\n",
       "      <th>4</th>\n",
       "      <td>1N88Ctk7e3taTxjKwzNKTUU1Jc9QJ99q35</td>\n",
       "      <td>bitcoin</td>\n",
       "      <td>34</td>\n",
       "      <td>b</td>\n",
       "      <td>base58check</td>\n",
       "      <td>23</td>\n",
       "      <td>11</td>\n",
       "    </tr>\n",
       "  </tbody>\n",
       "</table>\n",
       "</div>"
      ],
      "text/plain": [
       "                                      address      type  length prefix  \\\n",
       "0          31tz9NMuii6Efg3SjG1BeFEHUqKCjuwrSk   bitcoin      34      b   \n",
       "1          XnNFmrF8xFZwuuR7iNkefB4W8d8QNktqYA      dash      34      d   \n",
       "2  0x9cc6c2b37428c258a0783d29c3cc05c1cc8348a9  ethereum      42      e   \n",
       "3  0x139bdf382a423cdec92a8581500993c9cb779889  ethereum      42      e   \n",
       "4          1N88Ctk7e3taTxjKwzNKTUU1Jc9QJ99q35   bitcoin      34      b   \n",
       "\n",
       "      checksum  num_alpha  num_digits  \n",
       "0  base58check         28           6  \n",
       "1          x11         29           5  \n",
       "2   keccak-256         15          27  \n",
       "3   keccak-256         13          29  \n",
       "4  base58check         23          11  "
      ]
     },
     "execution_count": 43,
     "metadata": {},
     "output_type": "execute_result"
    }
   ],
   "source": [
    "df.head()"
   ]
  },
  {
   "cell_type": "code",
   "execution_count": 44,
   "metadata": {},
   "outputs": [],
   "source": [
    "# Convert categorical features to numerical values\n",
    "# df = pd.get_dummies(df, columns=['prefix', 'checksum'])"
   ]
  },
  {
   "cell_type": "code",
   "execution_count": 45,
   "metadata": {},
   "outputs": [],
   "source": [
    "le = LabelEncoder()"
   ]
  },
  {
   "cell_type": "code",
   "execution_count": 46,
   "metadata": {},
   "outputs": [],
   "source": [
    "# df['prefix'] = le.fit_transform(df['prefix'])\n",
    "# df['checksum'] = le.fit_transform(df['checksum'])"
   ]
  },
  {
   "cell_type": "code",
   "execution_count": 47,
   "metadata": {},
   "outputs": [],
   "source": [
    "df = pd.get_dummies(df, columns=['prefix', 'checksum'])"
   ]
  },
  {
   "cell_type": "code",
   "execution_count": 48,
   "metadata": {},
   "outputs": [
    {
     "data": {
      "text/html": [
       "<div>\n",
       "<style scoped>\n",
       "    .dataframe tbody tr th:only-of-type {\n",
       "        vertical-align: middle;\n",
       "    }\n",
       "\n",
       "    .dataframe tbody tr th {\n",
       "        vertical-align: top;\n",
       "    }\n",
       "\n",
       "    .dataframe thead th {\n",
       "        text-align: right;\n",
       "    }\n",
       "</style>\n",
       "<table border=\"1\" class=\"dataframe\">\n",
       "  <thead>\n",
       "    <tr style=\"text-align: right;\">\n",
       "      <th></th>\n",
       "      <th>address</th>\n",
       "      <th>type</th>\n",
       "      <th>length</th>\n",
       "      <th>num_alpha</th>\n",
       "      <th>num_digits</th>\n",
       "      <th>prefix_b</th>\n",
       "      <th>prefix_d</th>\n",
       "      <th>prefix_e</th>\n",
       "      <th>prefix_unknown</th>\n",
       "      <th>checksum_base58check</th>\n",
       "      <th>checksum_keccak-256</th>\n",
       "      <th>checksum_unknown</th>\n",
       "      <th>checksum_x11</th>\n",
       "    </tr>\n",
       "  </thead>\n",
       "  <tbody>\n",
       "    <tr>\n",
       "      <th>0</th>\n",
       "      <td>31tz9NMuii6Efg3SjG1BeFEHUqKCjuwrSk</td>\n",
       "      <td>bitcoin</td>\n",
       "      <td>34</td>\n",
       "      <td>28</td>\n",
       "      <td>6</td>\n",
       "      <td>True</td>\n",
       "      <td>False</td>\n",
       "      <td>False</td>\n",
       "      <td>False</td>\n",
       "      <td>True</td>\n",
       "      <td>False</td>\n",
       "      <td>False</td>\n",
       "      <td>False</td>\n",
       "    </tr>\n",
       "    <tr>\n",
       "      <th>1</th>\n",
       "      <td>XnNFmrF8xFZwuuR7iNkefB4W8d8QNktqYA</td>\n",
       "      <td>dash</td>\n",
       "      <td>34</td>\n",
       "      <td>29</td>\n",
       "      <td>5</td>\n",
       "      <td>False</td>\n",
       "      <td>True</td>\n",
       "      <td>False</td>\n",
       "      <td>False</td>\n",
       "      <td>False</td>\n",
       "      <td>False</td>\n",
       "      <td>False</td>\n",
       "      <td>True</td>\n",
       "    </tr>\n",
       "    <tr>\n",
       "      <th>2</th>\n",
       "      <td>0x9cc6c2b37428c258a0783d29c3cc05c1cc8348a9</td>\n",
       "      <td>ethereum</td>\n",
       "      <td>42</td>\n",
       "      <td>15</td>\n",
       "      <td>27</td>\n",
       "      <td>False</td>\n",
       "      <td>False</td>\n",
       "      <td>True</td>\n",
       "      <td>False</td>\n",
       "      <td>False</td>\n",
       "      <td>True</td>\n",
       "      <td>False</td>\n",
       "      <td>False</td>\n",
       "    </tr>\n",
       "    <tr>\n",
       "      <th>3</th>\n",
       "      <td>0x139bdf382a423cdec92a8581500993c9cb779889</td>\n",
       "      <td>ethereum</td>\n",
       "      <td>42</td>\n",
       "      <td>13</td>\n",
       "      <td>29</td>\n",
       "      <td>False</td>\n",
       "      <td>False</td>\n",
       "      <td>True</td>\n",
       "      <td>False</td>\n",
       "      <td>False</td>\n",
       "      <td>True</td>\n",
       "      <td>False</td>\n",
       "      <td>False</td>\n",
       "    </tr>\n",
       "    <tr>\n",
       "      <th>4</th>\n",
       "      <td>1N88Ctk7e3taTxjKwzNKTUU1Jc9QJ99q35</td>\n",
       "      <td>bitcoin</td>\n",
       "      <td>34</td>\n",
       "      <td>23</td>\n",
       "      <td>11</td>\n",
       "      <td>True</td>\n",
       "      <td>False</td>\n",
       "      <td>False</td>\n",
       "      <td>False</td>\n",
       "      <td>True</td>\n",
       "      <td>False</td>\n",
       "      <td>False</td>\n",
       "      <td>False</td>\n",
       "    </tr>\n",
       "  </tbody>\n",
       "</table>\n",
       "</div>"
      ],
      "text/plain": [
       "                                      address      type  length  num_alpha  \\\n",
       "0          31tz9NMuii6Efg3SjG1BeFEHUqKCjuwrSk   bitcoin      34         28   \n",
       "1          XnNFmrF8xFZwuuR7iNkefB4W8d8QNktqYA      dash      34         29   \n",
       "2  0x9cc6c2b37428c258a0783d29c3cc05c1cc8348a9  ethereum      42         15   \n",
       "3  0x139bdf382a423cdec92a8581500993c9cb779889  ethereum      42         13   \n",
       "4          1N88Ctk7e3taTxjKwzNKTUU1Jc9QJ99q35   bitcoin      34         23   \n",
       "\n",
       "   num_digits  prefix_b  prefix_d  prefix_e  prefix_unknown  \\\n",
       "0           6      True     False     False           False   \n",
       "1           5     False      True     False           False   \n",
       "2          27     False     False      True           False   \n",
       "3          29     False     False      True           False   \n",
       "4          11      True     False     False           False   \n",
       "\n",
       "   checksum_base58check  checksum_keccak-256  checksum_unknown  checksum_x11  \n",
       "0                  True                False             False         False  \n",
       "1                 False                False             False          True  \n",
       "2                 False                 True             False         False  \n",
       "3                 False                 True             False         False  \n",
       "4                  True                False             False         False  "
      ]
     },
     "execution_count": 48,
     "metadata": {},
     "output_type": "execute_result"
    }
   ],
   "source": [
    "df.head()"
   ]
  },
  {
   "cell_type": "code",
   "execution_count": 49,
   "metadata": {},
   "outputs": [],
   "source": [
    "df.to_csv(\"trydata.csv\", index=False)"
   ]
  },
  {
   "cell_type": "code",
   "execution_count": 50,
   "metadata": {},
   "outputs": [
    {
     "data": {
      "text/plain": [
       "Index(['address', 'type', 'length', 'num_alpha', 'num_digits', 'prefix_b',\n",
       "       'prefix_d', 'prefix_e', 'prefix_unknown', 'checksum_base58check',\n",
       "       'checksum_keccak-256', 'checksum_unknown', 'checksum_x11'],\n",
       "      dtype='object')"
      ]
     },
     "execution_count": 50,
     "metadata": {},
     "output_type": "execute_result"
    }
   ],
   "source": [
    "df.columns"
   ]
  },
  {
   "cell_type": "code",
   "execution_count": 51,
   "metadata": {},
   "outputs": [],
   "source": [
    "# Label encoding for target\n",
    "df['type'] = le.fit_transform(df['type'])"
   ]
  },
  {
   "cell_type": "code",
   "execution_count": 52,
   "metadata": {},
   "outputs": [],
   "source": [
    "# Separate features and target\n",
    "X = df.drop(columns=['address', 'type'])\n",
    "y = df['type']"
   ]
  },
  {
   "cell_type": "code",
   "execution_count": 53,
   "metadata": {},
   "outputs": [],
   "source": [
    "ss = StandardScaler()\n",
    "X = ss.fit_transform(X)"
   ]
  },
  {
   "cell_type": "code",
   "execution_count": 54,
   "metadata": {},
   "outputs": [],
   "source": [
    "# Save class information for inference\n",
    "np.save('../models/classes.npy', le.classes_)"
   ]
  },
  {
   "cell_type": "code",
   "execution_count": 55,
   "metadata": {},
   "outputs": [],
   "source": [
    "X_train, X_test, y_train, y_test = train_test_split(X, y, test_size=0.2, random_state=24)"
   ]
  },
  {
   "cell_type": "code",
   "execution_count": 63,
   "metadata": {},
   "outputs": [
    {
     "name": "stdout",
     "output_type": "stream",
     "text": [
      "Training RandomForest...\n",
      "Results for RandomForest:\n",
      "Accuracy: 1.0\n",
      "              precision    recall  f1-score   support\n",
      "\n",
      "           0       1.00      1.00      1.00     20064\n",
      "           1       1.00      1.00      1.00     20044\n",
      "           2       1.00      1.00      1.00     19892\n",
      "\n",
      "    accuracy                           1.00     60000\n",
      "   macro avg       1.00      1.00      1.00     60000\n",
      "weighted avg       1.00      1.00      1.00     60000\n",
      "\n",
      "\n",
      "\n",
      "RandomForest model saved as RandomForest.pkl\n",
      "\n",
      "Training SVC...\n",
      "Results for SVC:\n",
      "Accuracy: 1.0\n",
      "              precision    recall  f1-score   support\n",
      "\n",
      "           0       1.00      1.00      1.00     20064\n",
      "           1       1.00      1.00      1.00     20044\n",
      "           2       1.00      1.00      1.00     19892\n",
      "\n",
      "    accuracy                           1.00     60000\n",
      "   macro avg       1.00      1.00      1.00     60000\n",
      "weighted avg       1.00      1.00      1.00     60000\n",
      "\n",
      "\n",
      "\n",
      "SVC model saved as SVC.pkl\n",
      "\n",
      "Training NaiveBayes...\n",
      "Results for NaiveBayes:\n",
      "Accuracy: 0.9935333333333334\n",
      "              precision    recall  f1-score   support\n",
      "\n",
      "           0       0.98      1.00      0.99     20064\n",
      "           1       1.00      0.98      0.99     20044\n",
      "           2       1.00      1.00      1.00     19892\n",
      "\n",
      "    accuracy                           0.99     60000\n",
      "   macro avg       0.99      0.99      0.99     60000\n",
      "weighted avg       0.99      0.99      0.99     60000\n",
      "\n",
      "\n",
      "\n",
      "NaiveBayes model saved as NaiveBayes.pkl\n",
      "\n"
     ]
    }
   ],
   "source": [
    "# Define models to train\n",
    "models = {\n",
    "    \"RandomForest\": RandomForestClassifier(n_estimators=150, random_state=62),\n",
    "    # \"LogisticRegression\": LogisticRegression(max_iter=1000, random_state=58),\n",
    "    \"SVC\": SVC(random_state=42),\n",
    "    # \"DecisionTree\": DecisionTreeClassifier(random_state=23),\n",
    "    \"NaiveBayes\": GaussianNB()\n",
    "}\n",
    "\n",
    "# Train and evaluate each model\n",
    "for model_name, model in models.items():\n",
    "    print(f\"Training {model_name}...\")\n",
    "    model.fit(X_train, y_train)\n",
    "    y_pred = model.predict(X_test)\n",
    "    \n",
    "    print(f\"Results for {model_name}:\")\n",
    "    print(\"Accuracy:\", accuracy_score(y_test, y_pred))\n",
    "    print(classification_report(y_test, y_pred))\n",
    "    print(\"\\n\")\n",
    "\n",
    "    # Save the model\n",
    "    joblib.dump(model, f\"../models/{model_name}.pkl\")\n",
    "    print(f\"{model_name} model saved as {model_name}.pkl\\n\")\n",
    "\n",
    "    # Save Random Forest model to a variable for later use\n",
    "    if model_name == \"RandomForest\":\n",
    "        rf_model = model"
   ]
  },
  {
   "cell_type": "code",
   "execution_count": 60,
   "metadata": {},
   "outputs": [
    {
     "name": "stdout",
     "output_type": "stream",
     "text": [
      "Epoch 1/2\n"
     ]
    },
    {
     "name": "stderr",
     "output_type": "stream",
     "text": [
      "/Users/geogotechsolutions/miniconda3/envs/hornetassign/lib/python3.10/site-packages/keras/src/layers/core/dense.py:87: UserWarning: Do not pass an `input_shape`/`input_dim` argument to a layer. When using Sequential models, prefer using an `Input(shape)` object as the first layer in the model instead.\n",
      "  super().__init__(activity_regularizer=activity_regularizer, **kwargs)\n"
     ]
    },
    {
     "name": "stdout",
     "output_type": "stream",
     "text": [
      "\u001b[1m6000/6000\u001b[0m \u001b[32m━━━━━━━━━━━━━━━━━━━━\u001b[0m\u001b[37m\u001b[0m \u001b[1m20s\u001b[0m 3ms/step - accuracy: 0.9347 - loss: 0.1627 - val_accuracy: 1.0000 - val_loss: 5.2151e-08\n",
      "Epoch 2/2\n",
      "\u001b[1m6000/6000\u001b[0m \u001b[32m━━━━━━━━━━━━━━━━━━━━\u001b[0m\u001b[37m\u001b[0m \u001b[1m16s\u001b[0m 3ms/step - accuracy: 0.9914 - loss: 0.0239 - val_accuracy: 1.0000 - val_loss: 1.5299e-09\n"
     ]
    }
   ],
   "source": [
    "# Define the neural network architecture\n",
    "nn_model = Sequential([\n",
    "    Dense(32, input_dim=X_train.shape[1], activation='relu'),\n",
    "    Dropout(0.5),\n",
    "    Dense(16, activation='relu'),\n",
    "    Dropout(0.5),\n",
    "    Dense(3, activation='softmax')  # Output layer with 3 neurons for 3 classes\n",
    "])\n",
    "\n",
    "# Compile the model\n",
    "nn_model.compile(optimizer=Adam(learning_rate=0.001),\n",
    "              loss='sparse_categorical_crossentropy',\n",
    "              metrics=['accuracy'])\n",
    "\n",
    "# Train the model\n",
    "history = nn_model.fit(X_train, y_train, epochs=2, batch_size=32, validation_split=0.2, verbose=1)"
   ]
  },
  {
   "cell_type": "code",
   "execution_count": 58,
   "metadata": {},
   "outputs": [
    {
     "name": "stdout",
     "output_type": "stream",
     "text": [
      "Neural Network Test Accuracy: 1.0000\n",
      "\u001b[1m1875/1875\u001b[0m \u001b[32m━━━━━━━━━━━━━━━━━━━━\u001b[0m\u001b[37m\u001b[0m \u001b[1m4s\u001b[0m 2ms/step\n",
      "Classification Report for Neural Network:\n",
      "              precision    recall  f1-score   support\n",
      "\n",
      "           0       1.00      1.00      1.00     20064\n",
      "           1       1.00      1.00      1.00     20044\n",
      "           2       1.00      1.00      1.00     19892\n",
      "\n",
      "    accuracy                           1.00     60000\n",
      "   macro avg       1.00      1.00      1.00     60000\n",
      "weighted avg       1.00      1.00      1.00     60000\n",
      "\n",
      "Neural Network model saved as neural_network_model.keras\n"
     ]
    }
   ],
   "source": [
    "# Evaluate the model on the test set\n",
    "loss, accuracy = model.evaluate(X_test, y_test, verbose=0)\n",
    "print(f\"Neural Network Test Accuracy: {accuracy:.4f}\")\n",
    "\n",
    "# Predict on the test set\n",
    "y_pred = model.predict(X_test)\n",
    "y_pred_classes = np.argmax(y_pred, axis=1)\n",
    "\n",
    "# Print classification report\n",
    "print(\"Classification Report for Neural Network:\")\n",
    "print(classification_report(y_test, y_pred_classes))\n",
    "\n",
    "# Save the trained neural network model\n",
    "model.save(\"../models/neural_network_model.keras\")\n",
    "print(\"Neural Network model saved as neural_network_model.keras\")"
   ]
  },
  {
   "cell_type": "code",
   "execution_count": 66,
   "metadata": {},
   "outputs": [
    {
     "data": {
      "image/png": "[encoded data removed]",
      "text/plain": [
       "<Figure size 1200x800 with 1 Axes>"
      ]
     },
     "metadata": {},
     "output_type": "display_data"
    }
   ],
   "source": [
    "# check feature importance\n",
    "# Get feature importances\n",
    "feature_importances = rf_model.feature_importances_\n",
    "feature_names = df.drop(columns=['address', 'type']).columns\n",
    "\n",
    "# Create a DataFrame for feature importances\n",
    "importance_df = pd.DataFrame({\n",
    "    'Feature': feature_names,\n",
    "    'Importance': feature_importances\n",
    "})\n",
    "\n",
    "# Sort the DataFrame by importance\n",
    "importance_df = importance_df.sort_values(by='Importance', ascending=False)\n",
    "\n",
    "# Plot the feature importances\n",
    "plt.figure(figsize=(12, 8))\n",
    "sns.barplot(x='Importance', y='Feature', data=importance_df)\n",
    "plt.title('Feature Importance with respect to Target Variable')\n",
    "plt.xlabel('Importance')\n",
    "plt.ylabel('Feature')\n",
    "plt.tight_layout()\n",
    "plt.show()"
   ]
  }
 ],
 "metadata": {
  "kernelspec": {
   "display_name": "hornetassign",
   "language": "python",
   "name": "python3"
  },
  "language_info": {
   "codemirror_mode": {
    "name": "ipython",
    "version": 3
   },
   "file_extension": ".py",
   "mimetype": "text/x-python",
   "name": "python",
   "nbconvert_exporter": "python",
   "pygments_lexer": "ipython3",
   "version": "3.10.14"
  }
 },
 "nbformat": 4,
 "nbformat_minor": 2
}
