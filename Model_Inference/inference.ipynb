{
 "cells": [
  {
   "cell_type": "code",
   "execution_count": 30,
   "metadata": {},
   "outputs": [
    {
     "name": "stderr",
     "output_type": "stream",
     "text": [
      "2024-05-25 17:42:32.807923: I tensorflow/core/platform/cpu_feature_guard.cc:210] This TensorFlow binary is optimized to use available CPU instructions in performance-critical operations.\n",
      "To enable the following instructions: AVX2 FMA, in other operations, rebuild TensorFlow with the appropriate compiler flags.\n"
     ]
    }
   ],
   "source": [
    "import pandas as pd\n",
    "import numpy as np\n",
    "from sklearn.preprocessing import StandardScaler, LabelEncoder\n",
    "from sklearn.ensemble import RandomForestClassifier\n",
    "from sklearn.linear_model import LogisticRegression\n",
    "from sklearn.svm import SVC\n",
    "from sklearn.tree import DecisionTreeClassifier\n",
    "from sklearn.naive_bayes import GaussianNB\n",
    "from pipeline.features import FeatureEngineering\n",
    "import joblib\n",
    "from tensorflow.keras.models import load_model"
   ]
  },
  {
   "cell_type": "code",
   "execution_count": 9,
   "metadata": {},
   "outputs": [],
   "source": [
    "fe = FeatureEngineering()"
   ]
  },
  {
   "cell_type": "code",
   "execution_count": 10,
   "metadata": {},
   "outputs": [],
   "source": [
    "# Load class information\n",
    "classes = np.load('../models/classes.npy', allow_pickle=True)"
   ]
  },
  {
   "cell_type": "code",
   "execution_count": 20,
   "metadata": {},
   "outputs": [],
   "source": [
    "# Define models to train\n",
    "models = {\n",
    "    \"RandomForest\": RandomForestClassifier(n_estimators=150, random_state=62),\n",
    "    # \"LogisticRegression\": LogisticRegression(max_iter=1000, random_state=58),\n",
    "    \"SVC\": SVC(random_state=42),\n",
    "    # \"DecisionTree\": DecisionTreeClassifier(random_state=23),\n",
    "    \"NaiveBayes\": GaussianNB()\n",
    "}"
   ]
  },
  {
   "cell_type": "code",
   "execution_count": 31,
   "metadata": {},
   "outputs": [],
   "source": [
    "model = load_model(\"../models/neural_network_model.keras\")"
   ]
  },
  {
   "cell_type": "code",
   "execution_count": 23,
   "metadata": {},
   "outputs": [],
   "source": [
    "training_columns = ['length', 'num_alpha', 'num_digits', 'prefix_0x',\n",
    "       'prefix_1', 'prefix_3', 'prefix_X', 'prefix_bc1', 'prefix_unknown',\n",
    "       'checksum_base58check', 'checksum_keccak-256', 'checksum_unknown',\n",
    "       'checksum_x11']"
   ]
  },
  {
   "cell_type": "code",
   "execution_count": 26,
   "metadata": {},
   "outputs": [],
   "source": [
    "def preprocess_data(address):\n",
    "    # Extract features\n",
    "    address_features = fe.extract_features(address)\n",
    "    df = pd.DataFrame([address_features])\n",
    "\n",
    "    # Convert categorical features to numerical values\n",
    "    # le = LabelEncoder()\n",
    "    # df['prefix'] = le.fit_transform(df['prefix'])\n",
    "    # df['checksum'] = le.fit_transform(df['checksum']\n",
    "\n",
    "    df = pd.get_dummies(df, columns=['prefix', 'checksum'])\n",
    "    \n",
    "    # Add missing columns\n",
    "    missing_columns = list(set(training_columns) - set(df.columns))\n",
    "    for col in missing_columns:\n",
    "        df[col] = 0\n",
    "\n",
    "    # Scale features\n",
    "    ss = StandardScaler()\n",
    "    df_scaled = ss.fit_transform(df)\n",
    "    return df_scaled"
   ]
  },
  {
   "cell_type": "code",
   "execution_count": 27,
   "metadata": {},
   "outputs": [],
   "source": [
    "# Function to perform inference\n",
    "def models_inference(address):\n",
    "    # Preprocess data\n",
    "    df_scaled = preprocess_data(address)\n",
    "    # Load models and perform inference\n",
    "    results = {}\n",
    "    for model_name in models.keys():\n",
    "        model = joblib.load(f\"../models/{model_name}.pkl\")\n",
    "        prediction = model.predict(df_scaled)[0]\n",
    "        predicted_class = classes[prediction]\n",
    "        results[model_name] = predicted_class\n",
    "\n",
    "    return results"
   ]
  },
  {
   "cell_type": "code",
   "execution_count": 32,
   "metadata": {},
   "outputs": [],
   "source": [
    "# Function to make a prediction\n",
    "def nn_inference(address):\n",
    "    # Preprocess the address\n",
    "    address_preprocessed = preprocess_data(address)\n",
    "\n",
    "    # Make prediction\n",
    "    prediction = model.predict(address_preprocessed)\n",
    "    predicted_class = np.argmax(prediction, axis=1)\n",
    "\n",
    "    # Convert numerical prediction back to original class\n",
    "    predicted_label = classes[predicted_class][0]\n",
    "\n",
    "    return predicted_label"
   ]
  },
  {
   "cell_type": "code",
   "execution_count": 29,
   "metadata": {},
   "outputs": [
    {
     "name": "stdout",
     "output_type": "stream",
     "text": [
      "Inference results for address: 0x6466f1ab7a0ddea74aa38a4d99da2b98412e680e\n",
      "RandomForest: bitcoin\n",
      "SVC: dash\n",
      "NaiveBayes: bitcoin\n"
     ]
    }
   ],
   "source": [
    "# Test address\n",
    "test_address = \"0x6466f1ab7a0ddea74aa38a4d99da2b98412e680e\"\n",
    "results = models_inference(test_address)\n",
    "print(\"Inference results for address:\", test_address)\n",
    "for model_name, predicted_class in results.items():\n",
    "    print(f\"{model_name}: {predicted_class}\")"
   ]
  },
  {
   "cell_type": "code",
   "execution_count": 33,
   "metadata": {},
   "outputs": [
    {
     "name": "stdout",
     "output_type": "stream",
     "text": [
      "\u001b[1m1/1\u001b[0m \u001b[32m━━━━━━━━━━━━━━━━━━━━\u001b[0m\u001b[37m\u001b[0m \u001b[1m0s\u001b[0m 87ms/step\n",
      "bitcoin\n"
     ]
    }
   ],
   "source": [
    "result = nn_inference(test_address)\n",
    "print(result)"
   ]
  }
 ],
 "metadata": {
  "kernelspec": {
   "display_name": "hornetassign",
   "language": "python",
   "name": "python3"
  },
  "language_info": {
   "codemirror_mode": {
    "name": "ipython",
    "version": 3
   },
   "file_extension": ".py",
   "mimetype": "text/x-python",
   "name": "python",
   "nbconvert_exporter": "python",
   "pygments_lexer": "ipython3",
   "version": "3.10.14"
  }
 },
 "nbformat": 4,
 "nbformat_minor": 2
}
