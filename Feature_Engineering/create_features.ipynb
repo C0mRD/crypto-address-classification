{
 "cells": [
  {
   "cell_type": "code",
   "execution_count": 1,
   "metadata": {},
   "outputs": [],
   "source": [
    "import pandas as pd\n",
    "from features import FeatureEngineering"
   ]
  },
  {
   "cell_type": "code",
   "execution_count": 2,
   "metadata": {},
   "outputs": [],
   "source": [
    "df = pd.read_csv(\"../dataset/processed_data/preprocessed_dataset_new.csv\")"
   ]
  },
  {
   "cell_type": "code",
   "execution_count": 3,
   "metadata": {},
   "outputs": [],
   "source": [
    "fe = FeatureEngineering(df)"
   ]
  },
  {
   "cell_type": "code",
   "execution_count": 4,
   "metadata": {},
   "outputs": [],
   "source": [
    "feature_df = fe.create_features()"
   ]
  },
  {
   "cell_type": "code",
   "execution_count": 5,
   "metadata": {},
   "outputs": [
    {
     "data": {
      "text/html": [
       "<div>\n",
       "<style scoped>\n",
       "    .dataframe tbody tr th:only-of-type {\n",
       "        vertical-align: middle;\n",
       "    }\n",
       "\n",
       "    .dataframe tbody tr th {\n",
       "        vertical-align: top;\n",
       "    }\n",
       "\n",
       "    .dataframe thead th {\n",
       "        text-align: right;\n",
       "    }\n",
       "</style>\n",
       "<table border=\"1\" class=\"dataframe\">\n",
       "  <thead>\n",
       "    <tr style=\"text-align: right;\">\n",
       "      <th></th>\n",
       "      <th>address</th>\n",
       "      <th>type</th>\n",
       "      <th>length</th>\n",
       "      <th>prefix</th>\n",
       "      <th>checksum</th>\n",
       "      <th>num_alpha</th>\n",
       "      <th>num_digits</th>\n",
       "    </tr>\n",
       "  </thead>\n",
       "  <tbody>\n",
       "    <tr>\n",
       "      <th>0</th>\n",
       "      <td>31tz9NMuii6Efg3SjG1BeFEHUqKCjuwrSk</td>\n",
       "      <td>bitcoin</td>\n",
       "      <td>34</td>\n",
       "      <td>b</td>\n",
       "      <td>base58check</td>\n",
       "      <td>28</td>\n",
       "      <td>6</td>\n",
       "    </tr>\n",
       "    <tr>\n",
       "      <th>1</th>\n",
       "      <td>XnNFmrF8xFZwuuR7iNkefB4W8d8QNktqYA</td>\n",
       "      <td>dash</td>\n",
       "      <td>34</td>\n",
       "      <td>d</td>\n",
       "      <td>x11</td>\n",
       "      <td>29</td>\n",
       "      <td>5</td>\n",
       "    </tr>\n",
       "    <tr>\n",
       "      <th>2</th>\n",
       "      <td>0x9cc6c2b37428c258a0783d29c3cc05c1cc8348a9</td>\n",
       "      <td>ethereum</td>\n",
       "      <td>42</td>\n",
       "      <td>e</td>\n",
       "      <td>keccak-256</td>\n",
       "      <td>15</td>\n",
       "      <td>27</td>\n",
       "    </tr>\n",
       "    <tr>\n",
       "      <th>3</th>\n",
       "      <td>0x139bdf382a423cdec92a8581500993c9cb779889</td>\n",
       "      <td>ethereum</td>\n",
       "      <td>42</td>\n",
       "      <td>e</td>\n",
       "      <td>keccak-256</td>\n",
       "      <td>13</td>\n",
       "      <td>29</td>\n",
       "    </tr>\n",
       "    <tr>\n",
       "      <th>4</th>\n",
       "      <td>1N88Ctk7e3taTxjKwzNKTUU1Jc9QJ99q35</td>\n",
       "      <td>bitcoin</td>\n",
       "      <td>34</td>\n",
       "      <td>b</td>\n",
       "      <td>base58check</td>\n",
       "      <td>23</td>\n",
       "      <td>11</td>\n",
       "    </tr>\n",
       "  </tbody>\n",
       "</table>\n",
       "</div>"
      ],
      "text/plain": [
       "                                      address      type  length prefix  \\\n",
       "0          31tz9NMuii6Efg3SjG1BeFEHUqKCjuwrSk   bitcoin      34      b   \n",
       "1          XnNFmrF8xFZwuuR7iNkefB4W8d8QNktqYA      dash      34      d   \n",
       "2  0x9cc6c2b37428c258a0783d29c3cc05c1cc8348a9  ethereum      42      e   \n",
       "3  0x139bdf382a423cdec92a8581500993c9cb779889  ethereum      42      e   \n",
       "4          1N88Ctk7e3taTxjKwzNKTUU1Jc9QJ99q35   bitcoin      34      b   \n",
       "\n",
       "      checksum  num_alpha  num_digits  \n",
       "0  base58check         28           6  \n",
       "1          x11         29           5  \n",
       "2   keccak-256         15          27  \n",
       "3   keccak-256         13          29  \n",
       "4  base58check         23          11  "
      ]
     },
     "execution_count": 5,
     "metadata": {},
     "output_type": "execute_result"
    }
   ],
   "source": [
    "feature_df.head()"
   ]
  },
  {
   "cell_type": "code",
   "execution_count": 6,
   "metadata": {},
   "outputs": [],
   "source": [
    "feature_df.to_csv(\"../dataset/processed_data/dataset_with_feature_new.csv\", index=False)"
   ]
  }
 ],
 "metadata": {
  "kernelspec": {
   "display_name": "hornetassign",
   "language": "python",
   "name": "python3"
  },
  "language_info": {
   "codemirror_mode": {
    "name": "ipython",
    "version": 3
   },
   "file_extension": ".py",
   "mimetype": "text/x-python",
   "name": "python",
   "nbconvert_exporter": "python",
   "pygments_lexer": "ipython3",
   "version": "3.10.14"
  }
 },
 "nbformat": 4,
 "nbformat_minor": 2
}
