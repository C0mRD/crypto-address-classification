{
 "cells": [
  {
   "cell_type": "code",
   "execution_count": 1,
   "metadata": {},
   "outputs": [],
   "source": [
    "import pandas as pd\n",
    "from features import FeatureEngineering"
   ]
  },
  {
   "cell_type": "code",
   "execution_count": 3,
   "metadata": {},
   "outputs": [],
   "source": [
    "df = pd.read_csv(\"../Data_Preprocessing/preprocessed_dataset.csv\")"
   ]
  },
  {
   "cell_type": "code",
   "execution_count": 4,
   "metadata": {},
   "outputs": [],
   "source": [
    "fe = FeatureEngineering(df)"
   ]
  },
  {
   "cell_type": "code",
   "execution_count": 5,
   "metadata": {},
   "outputs": [],
   "source": [
    "feature_df = fe.create_features()"
   ]
  },
  {
   "cell_type": "code",
   "execution_count": 6,
   "metadata": {},
   "outputs": [
    {
     "data": {
      "text/html": [
       "<div>\n",
       "<style scoped>\n",
       "    .dataframe tbody tr th:only-of-type {\n",
       "        vertical-align: middle;\n",
       "    }\n",
       "\n",
       "    .dataframe tbody tr th {\n",
       "        vertical-align: top;\n",
       "    }\n",
       "\n",
       "    .dataframe thead th {\n",
       "        text-align: right;\n",
       "    }\n",
       "</style>\n",
       "<table border=\"1\" class=\"dataframe\">\n",
       "  <thead>\n",
       "    <tr style=\"text-align: right;\">\n",
       "      <th></th>\n",
       "      <th>address</th>\n",
       "      <th>type</th>\n",
       "      <th>length</th>\n",
       "      <th>prefix</th>\n",
       "      <th>char_set</th>\n",
       "      <th>checksum</th>\n",
       "      <th>format</th>\n",
       "      <th>num_alpha</th>\n",
       "      <th>num_digits</th>\n",
       "    </tr>\n",
       "  </thead>\n",
       "  <tbody>\n",
       "    <tr>\n",
       "      <th>0</th>\n",
       "      <td>XcpkYVoRJ2485BMCGssgU9dB7ru8oTurcC</td>\n",
       "      <td>dash</td>\n",
       "      <td>34</td>\n",
       "      <td>X</td>\n",
       "      <td>base58</td>\n",
       "      <td>base58check</td>\n",
       "      <td>Dash</td>\n",
       "      <td>27</td>\n",
       "      <td>7</td>\n",
       "    </tr>\n",
       "    <tr>\n",
       "      <th>1</th>\n",
       "      <td>1Bwp1RmFqB9ZSq4hQ3V5Qw4aMUrX8UU9d9</td>\n",
       "      <td>bitcoin</td>\n",
       "      <td>34</td>\n",
       "      <td>1</td>\n",
       "      <td>base58</td>\n",
       "      <td>base58check</td>\n",
       "      <td>P2PKH</td>\n",
       "      <td>24</td>\n",
       "      <td>10</td>\n",
       "    </tr>\n",
       "    <tr>\n",
       "      <th>2</th>\n",
       "      <td>1gFPXdaQQnkRQuve5AQgFVANpwDmSn28y</td>\n",
       "      <td>bitcoin</td>\n",
       "      <td>33</td>\n",
       "      <td>1</td>\n",
       "      <td>base58</td>\n",
       "      <td>base58check</td>\n",
       "      <td>P2PKH</td>\n",
       "      <td>29</td>\n",
       "      <td>4</td>\n",
       "    </tr>\n",
       "    <tr>\n",
       "      <th>3</th>\n",
       "      <td>XyQLuCU3KKWsjrSbjMHdUocjpNNKsEh8Es</td>\n",
       "      <td>dash</td>\n",
       "      <td>34</td>\n",
       "      <td>X</td>\n",
       "      <td>base58</td>\n",
       "      <td>base58check</td>\n",
       "      <td>Dash</td>\n",
       "      <td>32</td>\n",
       "      <td>2</td>\n",
       "    </tr>\n",
       "    <tr>\n",
       "      <th>4</th>\n",
       "      <td>0x0061e034155138d7037da593548668de67042ecc</td>\n",
       "      <td>ethereum</td>\n",
       "      <td>42</td>\n",
       "      <td>0x</td>\n",
       "      <td>hex</td>\n",
       "      <td>keccak-256</td>\n",
       "      <td>Ethereum</td>\n",
       "      <td>10</td>\n",
       "      <td>32</td>\n",
       "    </tr>\n",
       "  </tbody>\n",
       "</table>\n",
       "</div>"
      ],
      "text/plain": [
       "                                      address      type  length prefix  \\\n",
       "0          XcpkYVoRJ2485BMCGssgU9dB7ru8oTurcC      dash      34      X   \n",
       "1          1Bwp1RmFqB9ZSq4hQ3V5Qw4aMUrX8UU9d9   bitcoin      34      1   \n",
       "2           1gFPXdaQQnkRQuve5AQgFVANpwDmSn28y   bitcoin      33      1   \n",
       "3          XyQLuCU3KKWsjrSbjMHdUocjpNNKsEh8Es      dash      34      X   \n",
       "4  0x0061e034155138d7037da593548668de67042ecc  ethereum      42     0x   \n",
       "\n",
       "  char_set     checksum    format  num_alpha  num_digits  \n",
       "0   base58  base58check      Dash         27           7  \n",
       "1   base58  base58check     P2PKH         24          10  \n",
       "2   base58  base58check     P2PKH         29           4  \n",
       "3   base58  base58check      Dash         32           2  \n",
       "4      hex   keccak-256  Ethereum         10          32  "
      ]
     },
     "execution_count": 6,
     "metadata": {},
     "output_type": "execute_result"
    }
   ],
   "source": [
    "feature_df.head()"
   ]
  },
  {
   "cell_type": "code",
   "execution_count": 7,
   "metadata": {},
   "outputs": [],
   "source": [
    "feature_df.to_csv(\"../dataset/processed_data/dataset_with_feature.csv\", index=False)"
   ]
  }
 ],
 "metadata": {
  "kernelspec": {
   "display_name": "hornetassign",
   "language": "python",
   "name": "python3"
  },
  "language_info": {
   "codemirror_mode": {
    "name": "ipython",
    "version": 3
   },
   "file_extension": ".py",
   "mimetype": "text/x-python",
   "name": "python",
   "nbconvert_exporter": "python",
   "pygments_lexer": "ipython3",
   "version": "3.10.14"
  }
 },
 "nbformat": 4,
 "nbformat_minor": 2
}
