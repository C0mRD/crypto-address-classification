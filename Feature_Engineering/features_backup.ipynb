{
 "cells": [
  {
   "cell_type": "code",
   "execution_count": 27,
   "metadata": {},
   "outputs": [],
   "source": [
    "import pandas as pd\n",
    "import re\n",
    "import hashlib\n",
    "from hashlib import sha256"
   ]
  },
  {
   "cell_type": "code",
   "execution_count": 2,
   "metadata": {},
   "outputs": [],
   "source": [
    "# Load processed dataset\n",
    "df = pd.read_csv(\"../Data_Preprocessing/processed_dataset.csv\")"
   ]
  },
  {
   "cell_type": "code",
   "execution_count": 3,
   "metadata": {},
   "outputs": [],
   "source": [
    "# Address length\n",
    "df['address_length'] = df['address'].apply(len)"
   ]
  },
  {
   "cell_type": "code",
   "execution_count": 4,
   "metadata": {},
   "outputs": [],
   "source": [
    "# Address prefix\n",
    "df['prefix'] = df['address'].apply(lambda x: x[:2])"
   ]
  },
  {
   "cell_type": "code",
   "execution_count": 5,
   "metadata": {},
   "outputs": [],
   "source": [
    "# Hexadecimal character count (common in Ethereum and Binance Coin addresses)\n",
    "df['hex_char_count'] = df['address'].apply(lambda x: sum(c in '0123456789abcdefABCDEF' for c in x))"
   ]
  },
  {
   "cell_type": "code",
   "execution_count": 8,
   "metadata": {},
   "outputs": [],
   "source": [
    "# Numeric character count\n",
    "df['numeric_char_count'] = df['address'].apply(lambda x: sum(c.isdigit() for c in x))"
   ]
  },
  {
   "cell_type": "code",
   "execution_count": 9,
   "metadata": {},
   "outputs": [
    {
     "data": {
      "text/html": [
       "<div>\n",
       "<style scoped>\n",
       "    .dataframe tbody tr th:only-of-type {\n",
       "        vertical-align: middle;\n",
       "    }\n",
       "\n",
       "    .dataframe tbody tr th {\n",
       "        vertical-align: top;\n",
       "    }\n",
       "\n",
       "    .dataframe thead th {\n",
       "        text-align: right;\n",
       "    }\n",
       "</style>\n",
       "<table border=\"1\" class=\"dataframe\">\n",
       "  <thead>\n",
       "    <tr style=\"text-align: right;\">\n",
       "      <th></th>\n",
       "      <th>chain</th>\n",
       "      <th>address</th>\n",
       "      <th>address_length</th>\n",
       "      <th>prefix</th>\n",
       "      <th>hex_char_count</th>\n",
       "      <th>numeric_char_count</th>\n",
       "    </tr>\n",
       "  </thead>\n",
       "  <tbody>\n",
       "    <tr>\n",
       "      <th>0</th>\n",
       "      <td>ethereum</td>\n",
       "      <td>0xe26ebb18144cd2d8dcb14ce87fdcfbeb81bacad4</td>\n",
       "      <td>42</td>\n",
       "      <td>0x</td>\n",
       "      <td>41</td>\n",
       "      <td>17</td>\n",
       "    </tr>\n",
       "    <tr>\n",
       "      <th>1</th>\n",
       "      <td>bitcoin</td>\n",
       "      <td>19e6aqs6ru2ei5r3cuzcfmcklq78uksmry</td>\n",
       "      <td>34</td>\n",
       "      <td>19</td>\n",
       "      <td>16</td>\n",
       "      <td>9</td>\n",
       "    </tr>\n",
       "    <tr>\n",
       "      <th>2</th>\n",
       "      <td>bitcoin</td>\n",
       "      <td>1a8zvt1dumw3ttotpnsrxxlhy4rm7lic4y</td>\n",
       "      <td>34</td>\n",
       "      <td>1a</td>\n",
       "      <td>10</td>\n",
       "      <td>7</td>\n",
       "    </tr>\n",
       "    <tr>\n",
       "      <th>3</th>\n",
       "      <td>bitcoin</td>\n",
       "      <td>1p9tsktsfuulgbhx7aff29s7dtnvanoksz</td>\n",
       "      <td>34</td>\n",
       "      <td>1p</td>\n",
       "      <td>13</td>\n",
       "      <td>6</td>\n",
       "    </tr>\n",
       "    <tr>\n",
       "      <th>4</th>\n",
       "      <td>bitcoin</td>\n",
       "      <td>1ntacq8uef5p2rbnrkhsksw1f1pdxez3se</td>\n",
       "      <td>34</td>\n",
       "      <td>1n</td>\n",
       "      <td>16</td>\n",
       "      <td>7</td>\n",
       "    </tr>\n",
       "  </tbody>\n",
       "</table>\n",
       "</div>"
      ],
      "text/plain": [
       "      chain                                     address  address_length  \\\n",
       "0  ethereum  0xe26ebb18144cd2d8dcb14ce87fdcfbeb81bacad4              42   \n",
       "1   bitcoin          19e6aqs6ru2ei5r3cuzcfmcklq78uksmry              34   \n",
       "2   bitcoin          1a8zvt1dumw3ttotpnsrxxlhy4rm7lic4y              34   \n",
       "3   bitcoin          1p9tsktsfuulgbhx7aff29s7dtnvanoksz              34   \n",
       "4   bitcoin          1ntacq8uef5p2rbnrkhsksw1f1pdxez3se              34   \n",
       "\n",
       "  prefix  hex_char_count  numeric_char_count  \n",
       "0     0x              41                  17  \n",
       "1     19              16                   9  \n",
       "2     1a              10                   7  \n",
       "3     1p              13                   6  \n",
       "4     1n              16                   7  "
      ]
     },
     "execution_count": 9,
     "metadata": {},
     "output_type": "execute_result"
    }
   ],
   "source": [
    "df.head()"
   ]
  },
  {
   "cell_type": "code",
   "execution_count": 29,
   "metadata": {},
   "outputs": [],
   "source": [
    "digits58 = '123456789ABCDEFGHJKLMNPQRSTUVWXYZabcdefghijkmnopqrstuvwxyz'\n",
    "\n",
    "def decode_base58(bc, length):\n",
    "    n = 0\n",
    "    for char in bc:\n",
    "        n = n * 58 + digits58.index(char)\n",
    "    return n.to_bytes(length, 'big')\n",
    "def check_bitcoin(bc):\n",
    "    try:\n",
    "        bcbytes = decode_base58(bc, 25)\n",
    "        return bcbytes[-4:] == sha256(sha256(bcbytes[:-4]).digest()).digest()[:4]\n",
    "    except Exception:\n",
    "        return False"
   ]
  },
  {
   "cell_type": "code",
   "execution_count": 49,
   "metadata": {},
   "outputs": [
    {
     "name": "stdout",
     "output_type": "stream",
     "text": [
      "True\n"
     ]
    }
   ],
   "source": [
    "print(check_bitcoin(\"1MQdUquQ77DJdKfxLPYSN6vcgph8LkBLZS\"))"
   ]
  },
  {
   "cell_type": "code",
   "execution_count": 30,
   "metadata": {},
   "outputs": [],
   "source": [
    "# Bitcoin checksum validation\n",
    "df['is_valid_bitcoin_checksum'] = df['address'].apply(lambda x: check_bitcoin(x))"
   ]
  },
  {
   "cell_type": "code",
   "execution_count": 45,
   "metadata": {},
   "outputs": [
    {
     "data": {
      "text/html": [
       "<div>\n",
       "<style scoped>\n",
       "    .dataframe tbody tr th:only-of-type {\n",
       "        vertical-align: middle;\n",
       "    }\n",
       "\n",
       "    .dataframe tbody tr th {\n",
       "        vertical-align: top;\n",
       "    }\n",
       "\n",
       "    .dataframe thead th {\n",
       "        text-align: right;\n",
       "    }\n",
       "</style>\n",
       "<table border=\"1\" class=\"dataframe\">\n",
       "  <thead>\n",
       "    <tr style=\"text-align: right;\">\n",
       "      <th></th>\n",
       "      <th>chain</th>\n",
       "      <th>address</th>\n",
       "      <th>address_length</th>\n",
       "      <th>prefix</th>\n",
       "      <th>hex_char_count</th>\n",
       "      <th>numeric_char_count</th>\n",
       "      <th>is_valid_ethereum_checksum</th>\n",
       "      <th>is_valid_bitcoin_checksum</th>\n",
       "    </tr>\n",
       "  </thead>\n",
       "  <tbody>\n",
       "    <tr>\n",
       "      <th>0</th>\n",
       "      <td>ethereum</td>\n",
       "      <td>0xe26ebb18144cd2d8dcb14ce87fdcfbeb81bacad4</td>\n",
       "      <td>42</td>\n",
       "      <td>0x</td>\n",
       "      <td>41</td>\n",
       "      <td>17</td>\n",
       "      <td>False</td>\n",
       "      <td>False</td>\n",
       "    </tr>\n",
       "    <tr>\n",
       "      <th>1</th>\n",
       "      <td>bitcoin</td>\n",
       "      <td>19e6aqs6ru2ei5r3cuzcfmcklq78uksmry</td>\n",
       "      <td>34</td>\n",
       "      <td>19</td>\n",
       "      <td>16</td>\n",
       "      <td>9</td>\n",
       "      <td>False</td>\n",
       "      <td>False</td>\n",
       "    </tr>\n",
       "    <tr>\n",
       "      <th>2</th>\n",
       "      <td>bitcoin</td>\n",
       "      <td>1a8zvt1dumw3ttotpnsrxxlhy4rm7lic4y</td>\n",
       "      <td>34</td>\n",
       "      <td>1a</td>\n",
       "      <td>10</td>\n",
       "      <td>7</td>\n",
       "      <td>False</td>\n",
       "      <td>False</td>\n",
       "    </tr>\n",
       "    <tr>\n",
       "      <th>3</th>\n",
       "      <td>bitcoin</td>\n",
       "      <td>1p9tsktsfuulgbhx7aff29s7dtnvanoksz</td>\n",
       "      <td>34</td>\n",
       "      <td>1p</td>\n",
       "      <td>13</td>\n",
       "      <td>6</td>\n",
       "      <td>False</td>\n",
       "      <td>False</td>\n",
       "    </tr>\n",
       "    <tr>\n",
       "      <th>4</th>\n",
       "      <td>bitcoin</td>\n",
       "      <td>1ntacq8uef5p2rbnrkhsksw1f1pdxez3se</td>\n",
       "      <td>34</td>\n",
       "      <td>1n</td>\n",
       "      <td>16</td>\n",
       "      <td>7</td>\n",
       "      <td>False</td>\n",
       "      <td>False</td>\n",
       "    </tr>\n",
       "  </tbody>\n",
       "</table>\n",
       "</div>"
      ],
      "text/plain": [
       "      chain                                     address  address_length  \\\n",
       "0  ethereum  0xe26ebb18144cd2d8dcb14ce87fdcfbeb81bacad4              42   \n",
       "1   bitcoin          19e6aqs6ru2ei5r3cuzcfmcklq78uksmry              34   \n",
       "2   bitcoin          1a8zvt1dumw3ttotpnsrxxlhy4rm7lic4y              34   \n",
       "3   bitcoin          1p9tsktsfuulgbhx7aff29s7dtnvanoksz              34   \n",
       "4   bitcoin          1ntacq8uef5p2rbnrkhsksw1f1pdxez3se              34   \n",
       "\n",
       "  prefix  hex_char_count  numeric_char_count  is_valid_ethereum_checksum  \\\n",
       "0     0x              41                  17                       False   \n",
       "1     19              16                   9                       False   \n",
       "2     1a              10                   7                       False   \n",
       "3     1p              13                   6                       False   \n",
       "4     1n              16                   7                       False   \n",
       "\n",
       "   is_valid_bitcoin_checksum  \n",
       "0                      False  \n",
       "1                      False  \n",
       "2                      False  \n",
       "3                      False  \n",
       "4                      False  "
      ]
     },
     "execution_count": 45,
     "metadata": {},
     "output_type": "execute_result"
    }
   ],
   "source": [
    "df.head()"
   ]
  },
  {
   "cell_type": "code",
   "execution_count": 47,
   "metadata": {},
   "outputs": [],
   "source": [
    "df_bitcoin_valid = df.loc[(df['chain'] == 'bitcoin') & (df['is_valid_bitcoin_checksum'] == True)]"
   ]
  },
  {
   "cell_type": "code",
   "execution_count": 48,
   "metadata": {},
   "outputs": [
    {
     "data": {
      "text/html": [
       "<div>\n",
       "<style scoped>\n",
       "    .dataframe tbody tr th:only-of-type {\n",
       "        vertical-align: middle;\n",
       "    }\n",
       "\n",
       "    .dataframe tbody tr th {\n",
       "        vertical-align: top;\n",
       "    }\n",
       "\n",
       "    .dataframe thead th {\n",
       "        text-align: right;\n",
       "    }\n",
       "</style>\n",
       "<table border=\"1\" class=\"dataframe\">\n",
       "  <thead>\n",
       "    <tr style=\"text-align: right;\">\n",
       "      <th></th>\n",
       "      <th>chain</th>\n",
       "      <th>address</th>\n",
       "      <th>address_length</th>\n",
       "      <th>prefix</th>\n",
       "      <th>hex_char_count</th>\n",
       "      <th>numeric_char_count</th>\n",
       "      <th>is_valid_ethereum_checksum</th>\n",
       "      <th>is_valid_bitcoin_checksum</th>\n",
       "    </tr>\n",
       "  </thead>\n",
       "  <tbody>\n",
       "    <tr>\n",
       "      <th>8823146</th>\n",
       "      <td>bitcoin</td>\n",
       "      <td>13h3zhfknqfnvt3g35hpuvs584xjdhr9u9</td>\n",
       "      <td>34</td>\n",
       "      <td>13</td>\n",
       "      <td>14</td>\n",
       "      <td>11</td>\n",
       "      <td>False</td>\n",
       "      <td>True</td>\n",
       "    </tr>\n",
       "  </tbody>\n",
       "</table>\n",
       "</div>"
      ],
      "text/plain": [
       "           chain                             address  address_length prefix  \\\n",
       "8823146  bitcoin  13h3zhfknqfnvt3g35hpuvs584xjdhr9u9              34     13   \n",
       "\n",
       "         hex_char_count  numeric_char_count  is_valid_ethereum_checksum  \\\n",
       "8823146              14                  11                       False   \n",
       "\n",
       "         is_valid_bitcoin_checksum  \n",
       "8823146                       True  "
      ]
     },
     "execution_count": 48,
     "metadata": {},
     "output_type": "execute_result"
    }
   ],
   "source": [
    "df_bitcoin_valid"
   ]
  },
  {
   "cell_type": "code",
   "execution_count": 41,
   "metadata": {},
   "outputs": [
    {
     "ename": "ValueError",
     "evalue": "The truth value of a Series is ambiguous. Use a.empty, a.bool(), a.item(), a.any() or a.all().",
     "output_type": "error",
     "traceback": [
      "\u001b[1;31m---------------------------------------------------------------------------\u001b[0m",
      "\u001b[1;31mValueError\u001b[0m                                Traceback (most recent call last)",
      "\u001b[1;32m~\\AppData\\Local\\Temp\\ipykernel_15784\\3469146469.py\u001b[0m in \u001b[0;36m?\u001b[1;34m()\u001b[0m\n\u001b[1;32m----> 1\u001b[1;33m \u001b[0mdf\u001b[0m\u001b[1;33m[\u001b[0m\u001b[0mdf\u001b[0m\u001b[1;33m[\u001b[0m\u001b[1;34m\"chain\"\u001b[0m\u001b[1;33m]\u001b[0m \u001b[1;33m==\u001b[0m \u001b[1;34m\"bitcoin\"\u001b[0m \u001b[1;32mand\u001b[0m \u001b[0mdf\u001b[0m\u001b[1;33m[\u001b[0m\u001b[1;34m\"is_valid_bitcoin_checksum\"\u001b[0m\u001b[1;33m]\u001b[0m\u001b[1;33m.\u001b[0m\u001b[0mvalues\u001b[0m\u001b[1;33m.\u001b[0m\u001b[0misin\u001b[0m\u001b[1;33m(\u001b[0m\u001b[1;34m\"True\"\u001b[0m\u001b[1;33m)\u001b[0m\u001b[1;33m]\u001b[0m\u001b[1;33m\u001b[0m\u001b[1;33m\u001b[0m\u001b[0m\n\u001b[0m",
      "\u001b[1;32mc:\\Users\\cross\\miniconda3\\envs\\hornetassign\\lib\\site-packages\\pandas\\core\\generic.py\u001b[0m in \u001b[0;36m?\u001b[1;34m(self)\u001b[0m\n\u001b[0;32m   1575\u001b[0m     \u001b[1;33m@\u001b[0m\u001b[0mfinal\u001b[0m\u001b[1;33m\u001b[0m\u001b[1;33m\u001b[0m\u001b[0m\n\u001b[0;32m   1576\u001b[0m     \u001b[1;32mdef\u001b[0m \u001b[0m__nonzero__\u001b[0m\u001b[1;33m(\u001b[0m\u001b[0mself\u001b[0m\u001b[1;33m)\u001b[0m \u001b[1;33m->\u001b[0m \u001b[0mNoReturn\u001b[0m\u001b[1;33m:\u001b[0m\u001b[1;33m\u001b[0m\u001b[1;33m\u001b[0m\u001b[0m\n\u001b[1;32m-> 1577\u001b[1;33m         raise ValueError(\n\u001b[0m\u001b[0;32m   1578\u001b[0m             \u001b[1;34mf\"The truth value of a {type(self).__name__} is ambiguous. \"\u001b[0m\u001b[1;33m\u001b[0m\u001b[1;33m\u001b[0m\u001b[0m\n\u001b[0;32m   1579\u001b[0m             \u001b[1;34m\"Use a.empty, a.bool(), a.item(), a.any() or a.all().\"\u001b[0m\u001b[1;33m\u001b[0m\u001b[1;33m\u001b[0m\u001b[0m\n\u001b[0;32m   1580\u001b[0m         )\n",
      "\u001b[1;31mValueError\u001b[0m: The truth value of a Series is ambiguous. Use a.empty, a.bool(), a.item(), a.any() or a.all()."
     ]
    }
   ],
   "source": [
    "df[df[\"chain\"] == \"bitcoin\" lambda x: x == True for x in ]"
   ]
  },
  {
   "cell_type": "code",
   "execution_count": 11,
   "metadata": {},
   "outputs": [],
   "source": [
    "def is_valid_ethereum_checksum(address):\n",
    "    if address[:2] != '0x' or len(address) != 42:\n",
    "        return False\n",
    "    address = address[2:]\n",
    "    address_hash = hashlib.sha3_256(address.lower().encode('utf-8')).hexdigest()\n",
    "    for i in range(40):\n",
    "        if (address[i].isdigit() or address[i].islower()) and int(address_hash[i], 16) >= 8:\n",
    "            return False\n",
    "        if address[i].isupper() and int(address_hash[i], 16) < 8:\n",
    "            return False\n",
    "    return True"
   ]
  },
  {
   "cell_type": "code",
   "execution_count": 12,
   "metadata": {},
   "outputs": [],
   "source": [
    "# Ethereum checksum validation\n",
    "df['is_valid_ethereum_checksum'] = df['address'].apply(lambda x: is_valid_ethereum_checksum(x) if x.startswith('0x') else False)"
   ]
  },
  {
   "cell_type": "code",
   "execution_count": 16,
   "metadata": {},
   "outputs": [],
   "source": [
    "# Bitcoin checksum validation\n",
    "df['is_valid_bitcoin_checksum'] = df['address'].apply(lambda x: is_valid_bitcoin_checksum(x) if x[0] in '13' or x.startswith('bc1') else False)"
   ]
  },
  {
   "cell_type": "code",
   "execution_count": 43,
   "metadata": {},
   "outputs": [
    {
     "data": {
      "text/html": [
       "<div>\n",
       "<style scoped>\n",
       "    .dataframe tbody tr th:only-of-type {\n",
       "        vertical-align: middle;\n",
       "    }\n",
       "\n",
       "    .dataframe tbody tr th {\n",
       "        vertical-align: top;\n",
       "    }\n",
       "\n",
       "    .dataframe thead th {\n",
       "        text-align: right;\n",
       "    }\n",
       "</style>\n",
       "<table border=\"1\" class=\"dataframe\">\n",
       "  <thead>\n",
       "    <tr style=\"text-align: right;\">\n",
       "      <th></th>\n",
       "      <th>chain</th>\n",
       "      <th>address</th>\n",
       "      <th>address_length</th>\n",
       "      <th>prefix</th>\n",
       "      <th>hex_char_count</th>\n",
       "      <th>numeric_char_count</th>\n",
       "      <th>is_valid_ethereum_checksum</th>\n",
       "      <th>is_valid_bitcoin_checksum</th>\n",
       "    </tr>\n",
       "  </thead>\n",
       "  <tbody>\n",
       "    <tr>\n",
       "      <th>0</th>\n",
       "      <td>ethereum</td>\n",
       "      <td>0xe26ebb18144cd2d8dcb14ce87fdcfbeb81bacad4</td>\n",
       "      <td>42</td>\n",
       "      <td>0x</td>\n",
       "      <td>41</td>\n",
       "      <td>17</td>\n",
       "      <td>False</td>\n",
       "      <td>False</td>\n",
       "    </tr>\n",
       "    <tr>\n",
       "      <th>1</th>\n",
       "      <td>bitcoin</td>\n",
       "      <td>19e6aqs6ru2ei5r3cuzcfmcklq78uksmry</td>\n",
       "      <td>34</td>\n",
       "      <td>19</td>\n",
       "      <td>16</td>\n",
       "      <td>9</td>\n",
       "      <td>False</td>\n",
       "      <td>False</td>\n",
       "    </tr>\n",
       "    <tr>\n",
       "      <th>2</th>\n",
       "      <td>bitcoin</td>\n",
       "      <td>1a8zvt1dumw3ttotpnsrxxlhy4rm7lic4y</td>\n",
       "      <td>34</td>\n",
       "      <td>1a</td>\n",
       "      <td>10</td>\n",
       "      <td>7</td>\n",
       "      <td>False</td>\n",
       "      <td>False</td>\n",
       "    </tr>\n",
       "    <tr>\n",
       "      <th>3</th>\n",
       "      <td>bitcoin</td>\n",
       "      <td>1p9tsktsfuulgbhx7aff29s7dtnvanoksz</td>\n",
       "      <td>34</td>\n",
       "      <td>1p</td>\n",
       "      <td>13</td>\n",
       "      <td>6</td>\n",
       "      <td>False</td>\n",
       "      <td>False</td>\n",
       "    </tr>\n",
       "    <tr>\n",
       "      <th>4</th>\n",
       "      <td>bitcoin</td>\n",
       "      <td>1ntacq8uef5p2rbnrkhsksw1f1pdxez3se</td>\n",
       "      <td>34</td>\n",
       "      <td>1n</td>\n",
       "      <td>16</td>\n",
       "      <td>7</td>\n",
       "      <td>False</td>\n",
       "      <td>False</td>\n",
       "    </tr>\n",
       "  </tbody>\n",
       "</table>\n",
       "</div>"
      ],
      "text/plain": [
       "      chain                                     address  address_length  \\\n",
       "0  ethereum  0xe26ebb18144cd2d8dcb14ce87fdcfbeb81bacad4              42   \n",
       "1   bitcoin          19e6aqs6ru2ei5r3cuzcfmcklq78uksmry              34   \n",
       "2   bitcoin          1a8zvt1dumw3ttotpnsrxxlhy4rm7lic4y              34   \n",
       "3   bitcoin          1p9tsktsfuulgbhx7aff29s7dtnvanoksz              34   \n",
       "4   bitcoin          1ntacq8uef5p2rbnrkhsksw1f1pdxez3se              34   \n",
       "\n",
       "  prefix  hex_char_count  numeric_char_count  is_valid_ethereum_checksum  \\\n",
       "0     0x              41                  17                       False   \n",
       "1     19              16                   9                       False   \n",
       "2     1a              10                   7                       False   \n",
       "3     1p              13                   6                       False   \n",
       "4     1n              16                   7                       False   \n",
       "\n",
       "   is_valid_bitcoin_checksum  \n",
       "0                      False  \n",
       "1                      False  \n",
       "2                      False  \n",
       "3                      False  \n",
       "4                      False  "
      ]
     },
     "execution_count": 43,
     "metadata": {},
     "output_type": "execute_result"
    }
   ],
   "source": [
    "df.head()"
   ]
  }
 ],
 "metadata": {
  "kernelspec": {
   "display_name": "hornetassign",
   "language": "python",
   "name": "python3"
  },
  "language_info": {
   "codemirror_mode": {
    "name": "ipython",
    "version": 3
   },
   "file_extension": ".py",
   "mimetype": "text/x-python",
   "name": "python",
   "nbconvert_exporter": "python",
   "pygments_lexer": "ipython3",
   "version": "3.10.14"
  }
 },
 "nbformat": 4,
 "nbformat_minor": 2
}
